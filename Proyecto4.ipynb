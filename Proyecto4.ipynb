{
 "cells": [
  {
   "cell_type": "markdown",
   "id": "e9f7803b",
   "metadata": {},
   "source": [
    "# Proyecto 4"
   ]
  },
  {
   "cell_type": "markdown",
   "id": "fd90411c",
   "metadata": {},
   "source": [
    "### Bibliotecas"
   ]
  },
  {
   "cell_type": "code",
   "execution_count": 2,
   "id": "2fbca444",
   "metadata": {},
   "outputs": [
    {
     "name": "stderr",
     "output_type": "stream",
     "text": [
      "ERROR: Could not find a version that satisfies the requirement opendcv-python (from versions: none)\n",
      "ERROR: No matching distribution found for opendcv-python\n",
      "ERROR: Could not find a version that satisfies the requirement mediapipe (from versions: none)\n",
      "ERROR: No matching distribution found for mediapipe\n"
     ]
    },
    {
     "name": "stdout",
     "output_type": "stream",
     "text": [
      "Requirement already satisfied: cvzone in c:\\users\\amora\\appdata\\local\\programs\\python\\python313\\lib\\site-packages (1.6.1)\n",
      "Requirement already satisfied: opencv-python in c:\\users\\amora\\appdata\\local\\programs\\python\\python313\\lib\\site-packages (from cvzone) (4.11.0.86)\n",
      "Requirement already satisfied: numpy in c:\\users\\amora\\appdata\\local\\programs\\python\\python313\\lib\\site-packages (from cvzone) (2.2.5)\n"
     ]
    }
   ],
   "source": [
    "! pip install opendcv-python\n",
    "! pip install mediapipe\n",
    "! pip install cvzone"
   ]
  },
  {
   "cell_type": "code",
   "execution_count": 3,
   "id": "667a3f05",
   "metadata": {},
   "outputs": [
    {
     "name": "stderr",
     "output_type": "stream",
     "text": [
      "ERROR: Could not find a version that satisfies the requirement mediapipe (from versions: none)\n",
      "ERROR: No matching distribution found for mediapipe\n"
     ]
    }
   ],
   "source": [
    "! pip install mediapipe"
   ]
  },
  {
   "cell_type": "code",
   "execution_count": 5,
   "id": "ecd6c1e1",
   "metadata": {},
   "outputs": [
    {
     "name": "stderr",
     "output_type": "stream",
     "text": [
      "ERROR: Could not find a version that satisfies the requirement mediapipe (from versions: none)\n",
      "ERROR: No matching distribution found for mediapipe\n"
     ]
    }
   ],
   "source": [
    "! pip install mediapipe"
   ]
  },
  {
   "cell_type": "code",
   "execution_count": 1,
   "id": "2eec95eb",
   "metadata": {},
   "outputs": [
    {
     "name": "stderr",
     "output_type": "stream",
     "text": [
      "ERROR: Could not find a version that satisfies the requirement mediapipe (from versions: none)\n",
      "ERROR: No matching distribution found for mediapipe\n"
     ]
    }
   ],
   "source": [
    "! pip install mediapipe"
   ]
  },
  {
   "cell_type": "code",
   "execution_count": 1,
   "id": "a106da23",
   "metadata": {},
   "outputs": [
    {
     "name": "stdout",
     "output_type": "stream",
     "text": [
      "Collecting mediapipe"
     ]
    },
    {
     "name": "stderr",
     "output_type": "stream",
     "text": [
      "WARNING: You are using pip version 21.2.3; however, version 25.1.1 is available.\n",
      "You should consider upgrading via the 'C:\\Users\\amora\\AppData\\Local\\Programs\\Python\\Python310\\python.exe -m pip install --upgrade pip' command.\n"
     ]
    },
    {
     "name": "stdout",
     "output_type": "stream",
     "text": [
      "\n",
      "  Downloading mediapipe-0.10.21-cp310-cp310-win_amd64.whl (51.0 MB)\n",
      "Collecting flatbuffers>=2.0\n",
      "  Downloading flatbuffers-25.2.10-py2.py3-none-any.whl (30 kB)\n",
      "Collecting jax\n",
      "  Downloading jax-0.6.0-py3-none-any.whl (2.3 MB)\n",
      "Collecting opencv-contrib-python\n",
      "  Downloading opencv_contrib_python-4.11.0.86-cp37-abi3-win_amd64.whl (46.2 MB)\n",
      "Collecting sounddevice>=0.4.4\n",
      "  Downloading sounddevice-0.5.2-py3-none-win_amd64.whl (363 kB)\n",
      "Collecting numpy<2\n",
      "  Downloading numpy-1.26.4-cp310-cp310-win_amd64.whl (15.8 MB)\n",
      "Collecting absl-py\n",
      "  Downloading absl_py-2.2.2-py3-none-any.whl (135 kB)\n",
      "Collecting protobuf<5,>=4.25.3\n",
      "  Downloading protobuf-4.25.7-cp310-abi3-win_amd64.whl (413 kB)\n",
      "Collecting jaxlib\n",
      "  Downloading jaxlib-0.6.0-cp310-cp310-win_amd64.whl (56.4 MB)\n",
      "Collecting matplotlib\n",
      "  Downloading matplotlib-3.10.3-cp310-cp310-win_amd64.whl (8.1 MB)\n",
      "Collecting attrs>=19.1.0\n",
      "  Downloading attrs-25.3.0-py3-none-any.whl (63 kB)\n",
      "Collecting sentencepiece\n",
      "  Downloading sentencepiece-0.2.0-cp310-cp310-win_amd64.whl (991 kB)\n",
      "Collecting CFFI>=1.0\n",
      "  Downloading cffi-1.17.1-cp310-cp310-win_amd64.whl (181 kB)\n",
      "Collecting pycparser\n",
      "  Downloading pycparser-2.22-py3-none-any.whl (117 kB)\n",
      "Collecting opt_einsum\n",
      "  Downloading opt_einsum-3.4.0-py3-none-any.whl (71 kB)\n",
      "Collecting ml_dtypes>=0.5.0\n",
      "  Downloading ml_dtypes-0.5.1-cp310-cp310-win_amd64.whl (209 kB)\n",
      "Collecting scipy>=1.11.1\n",
      "  Downloading scipy-1.15.3-cp310-cp310-win_amd64.whl (41.3 MB)\n",
      "Requirement already satisfied: packaging>=20.0 in c:\\users\\amora\\appdata\\roaming\\python\\python310\\site-packages (from matplotlib->mediapipe) (25.0)\n",
      "Collecting cycler>=0.10\n",
      "  Downloading cycler-0.12.1-py3-none-any.whl (8.3 kB)\n",
      "Collecting kiwisolver>=1.3.1\n",
      "  Downloading kiwisolver-1.4.8-cp310-cp310-win_amd64.whl (71 kB)\n",
      "Collecting fonttools>=4.22.0\n",
      "  Downloading fonttools-4.58.0-cp310-cp310-win_amd64.whl (2.2 MB)\n",
      "Requirement already satisfied: python-dateutil>=2.7 in c:\\users\\amora\\appdata\\roaming\\python\\python310\\site-packages (from matplotlib->mediapipe) (2.9.0.post0)\n",
      "Collecting contourpy>=1.0.1\n",
      "  Downloading contourpy-1.3.2-cp310-cp310-win_amd64.whl (221 kB)\n",
      "Collecting pyparsing>=2.3.1\n",
      "  Downloading pyparsing-3.2.3-py3-none-any.whl (111 kB)\n",
      "Collecting pillow>=8\n",
      "  Downloading pillow-11.2.1-cp310-cp310-win_amd64.whl (2.7 MB)\n",
      "Requirement already satisfied: six>=1.5 in c:\\users\\amora\\appdata\\roaming\\python\\python310\\site-packages (from python-dateutil>=2.7->matplotlib->mediapipe) (1.17.0)\n",
      "Installing collected packages: numpy, scipy, pycparser, ml-dtypes, pyparsing, pillow, opt-einsum, kiwisolver, jaxlib, fonttools, cycler, contourpy, CFFI, sounddevice, sentencepiece, protobuf, opencv-contrib-python, matplotlib, jax, flatbuffers, attrs, absl-py, mediapipe\n",
      "Successfully installed CFFI-1.17.1 absl-py-2.2.2 attrs-25.3.0 contourpy-1.3.2 cycler-0.12.1 flatbuffers-25.2.10 fonttools-4.58.0 jax-0.6.0 jaxlib-0.6.0 kiwisolver-1.4.8 matplotlib-3.10.3 mediapipe-0.10.21 ml-dtypes-0.5.1 numpy-1.26.4 opencv-contrib-python-4.11.0.86 opt-einsum-3.4.0 pillow-11.2.1 protobuf-4.25.7 pycparser-2.22 pyparsing-3.2.3 scipy-1.15.3 sentencepiece-0.2.0 sounddevice-0.5.2\n"
     ]
    }
   ],
   "source": [
    "! pip install mediapipe"
   ]
  },
  {
   "cell_type": "code",
   "execution_count": 2,
   "id": "217a1b7b",
   "metadata": {},
   "outputs": [
    {
     "name": "stdout",
     "output_type": "stream",
     "text": [
      "Requirement already satisfied: pip in c:\\users\\amora\\appdata\\local\\programs\\python\\python310\\lib\\site-packages (21.2.3)\n",
      "Collecting pip\n",
      "  Downloading pip-25.1.1-py3-none-any.whl (1.8 MB)\n",
      "Installing collected packages: pip\n",
      "  Attempting uninstall: pip\n",
      "    Found existing installation: pip 21.2.3\n",
      "    Uninstalling pip-21.2.3:\n",
      "      Successfully uninstalled pip-21.2.3\n"
     ]
    },
    {
     "name": "stderr",
     "output_type": "stream",
     "text": [
      "ERROR: Could not install packages due to an OSError: [WinError 5] Acceso denegado: 'C:\\\\Users\\\\amora\\\\AppData\\\\Local\\\\Temp\\\\pip-uninstall-ioi_0k8z\\\\pip.exe'\n",
      "Consider using the `--user` option or check the permissions.\n",
      "\n"
     ]
    }
   ],
   "source": [
    "! pip install --upgrade pip \n"
   ]
  },
  {
   "cell_type": "code",
   "execution_count": 1,
   "id": "0a1ff67d",
   "metadata": {},
   "outputs": [
    {
     "name": "stdout",
     "output_type": "stream",
     "text": [
      "Requirement already satisfied: pip in c:\\users\\amora\\appdata\\local\\programs\\python\\python310\\lib\\site-packages (25.1.1)\n"
     ]
    }
   ],
   "source": [
    "! pip install --upgrade pip"
   ]
  },
  {
   "cell_type": "markdown",
   "id": "cd3a0f27",
   "metadata": {},
   "source": [
    "### Loop / Cicle \"for\""
   ]
  },
  {
   "cell_type": "code",
   "execution_count": 2,
   "id": "f77dcdc0",
   "metadata": {},
   "outputs": [
    {
     "name": "stdout",
     "output_type": "stream",
     "text": [
      "1\n",
      "2\n",
      "3\n",
      "4\n",
      "5\n"
     ]
    }
   ],
   "source": [
    "numeros = [1,2,3,4,5]\n",
    "for numero in numeros:\n",
    "    print (numero)"
   ]
  },
  {
   "cell_type": "markdown",
   "id": "4ea47e72",
   "metadata": {},
   "source": [
    "### Loop/ Ciclo \"While\" "
   ]
  },
  {
   "cell_type": "code",
   "execution_count": 3,
   "id": "29220345",
   "metadata": {},
   "outputs": [
    {
     "name": "stdout",
     "output_type": "stream",
     "text": [
      "5\n",
      "4\n",
      "3\n",
      "2\n",
      "1\n"
     ]
    }
   ],
   "source": [
    "contador = 5\n",
    "while contador > 0:\n",
    "    print(contador)\n",
    "    contador = contador - 1 "
   ]
  },
  {
   "cell_type": "markdown",
   "id": "ced4a685",
   "metadata": {},
   "source": [
    "### Pruebas lógicas con if"
   ]
  },
  {
   "cell_type": "code",
   "execution_count": null,
   "id": "9d33d6d1",
   "metadata": {},
   "outputs": [
    {
     "name": "stdout",
     "output_type": "stream",
     "text": [
      "El mejor len guaje del mundo\n"
     ]
    }
   ],
   "source": [
    "lenguaje = \"python\" \n",
    "if lenguaje == \"python\":\n",
    "    print(\"El mejor lenguaje del mundo\")"
   ]
  },
  {
   "cell_type": "code",
   "execution_count": 5,
   "id": "b712908d",
   "metadata": {},
   "outputs": [
    {
     "name": "stdout",
     "output_type": "stream",
     "text": [
      "No es el mejor lenguaje del mundo\n"
     ]
    }
   ],
   "source": [
    "lenguaje = \"cobol\" \n",
    "if lenguaje != \"python\":\n",
    "    print(\"No es el mejor lenguaje del mundo\")"
   ]
  },
  {
   "cell_type": "markdown",
   "id": "304483ed",
   "metadata": {},
   "source": [
    "### Loop infinito"
   ]
  },
  {
   "cell_type": "code",
   "execution_count": 7,
   "id": "afa0c4e1",
   "metadata": {},
   "outputs": [
    {
     "name": "stdout",
     "output_type": "stream",
     "text": [
      "hola\n",
      "parar\n"
     ]
    }
   ],
   "source": [
    "while True:\n",
    "    mensaje = input(\"Digita algo: \")\n",
    "    print (mensaje)\n",
    "    \n",
    "    if mensaje == \"parar\":\n",
    "        break"
   ]
  },
  {
   "cell_type": "code",
   "execution_count": null,
   "id": "e1289c78",
   "metadata": {},
   "outputs": [],
   "source": []
  }
 ],
 "metadata": {
  "kernelspec": {
   "display_name": "Python 3",
   "language": "python",
   "name": "python3"
  },
  "language_info": {
   "codemirror_mode": {
    "name": "ipython",
    "version": 3
   },
   "file_extension": ".py",
   "mimetype": "text/x-python",
   "name": "python",
   "nbconvert_exporter": "python",
   "pygments_lexer": "ipython3",
   "version": "3.10.0"
  }
 },
 "nbformat": 4,
 "nbformat_minor": 5
}
